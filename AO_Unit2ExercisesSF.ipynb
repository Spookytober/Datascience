{
  "nbformat": 4,
  "nbformat_minor": 0,
  "metadata": {
    "colab": {
      "provenance": [],
      "include_colab_link": true
    },
    "kernelspec": {
      "name": "python3",
      "display_name": "Python 3"
    },
    "language_info": {
      "name": "python"
    }
  },
  "cells": [
    {
      "cell_type": "markdown",
      "metadata": {
        "id": "view-in-github",
        "colab_type": "text"
      },
      "source": [
        "<a href=\"https://colab.research.google.com/github/Spookytober/Datascience/blob/main/AO_Unit2ExercisesSF.ipynb\" target=\"_parent\"><img src=\"https://colab.research.google.com/assets/colab-badge.svg\" alt=\"Open In Colab\"/></a>"
      ]
    },
    {
      "cell_type": "markdown",
      "source": [
        "#Unit 2 Exercises: Bayesian Building Blocks\n",
        "\n",
        "This first set of exercises focuses on conceptual understanding of the three parts of bayesian statistics we'll manipulate the most: the prior, likelihood, and posterior.\n",
        "\n",
        "These vocabulary words will help us categorize and explain all statistical models, even models that don't fit inside the standard bayesian framework."
      ],
      "metadata": {
        "id": "0GANUQSIhV2t"
      }
    },
    {
      "cell_type": "markdown",
      "source": [
        "**Task1**:\n",
        "\n",
        "Why do we make guesses? In other words, what is the benefit of trying to predict something we are uncertain about?"
      ],
      "metadata": {
        "id": "4HnMLojUPtOR"
      }
    },
    {
      "cell_type": "markdown",
      "source": [
        "We make guesses to better understand how the future might play out. It is advantageous to be able to somewhat accurately predict what could happen. For example, in our free throw example, it would be good to know how Wembanyama would perform if one were to bet on his games. Not that anyone would do that, though, because it's illegal."
      ],
      "metadata": {
        "id": "mDaA1AeLU5dU"
      }
    },
    {
      "cell_type": "markdown",
      "source": [
        "**Task2**:\n",
        "\n",
        "Is is it possible to make a guess/prediction without making an assumption?\n",
        "\n",
        "If yes, then give an example of such a guess, and state whenever that guess would be useful or not.\n",
        "\n",
        "If no, then briefly justify why we need assumptions to make predictions."
      ],
      "metadata": {
        "id": "fMU4F4ZGQqb9"
      }
    },
    {
      "cell_type": "markdown",
      "source": [
        "No, it is not. Assumptions are the groundwork of guesses, and you need to assume at least one thing to create the basis of your guess. An example would be guessing coin flips. You would need to assume things like the probability of flipping heads."
      ],
      "metadata": {
        "id": "JuBQVSQ0U-cD"
      }
    },
    {
      "cell_type": "markdown",
      "source": [
        "**Task3**:\n",
        "\n",
        "Should we use all the available information we have to make a guess/prediction? Justify your answer."
      ],
      "metadata": {
        "id": "8iIogaaJQEfl"
      }
    },
    {
      "cell_type": "markdown",
      "source": [
        "You should always use all information you have to make a guess. The more data you are given, the closer to the truth you can predict. If you are given 32 pieces of data (like in our free throw example) it would not be wise to only use 4 pieces of data from that. You would have less certainty in your guess."
      ],
      "metadata": {
        "id": "v8zljy-5QXSd"
      }
    },
    {
      "cell_type": "markdown",
      "source": [
        "**Task4**:\n",
        "\n",
        "What is a prior? How are priors related to\n",
        "- context?\n",
        "- assumptions?\n",
        "- predictions?"
      ],
      "metadata": {
        "id": "TYwtd8lPRFbj"
      }
    },
    {
      "cell_type": "markdown",
      "source": [
        "A prior is the, well, prior knowledge you have before making a prediction. They are usually written in as context for the problem. To once again use our free throw problem as an example, the prior states that Wembanyama made 24 out of 32 free throws. That information allows you to create assumptions about his free throw percentage, which you can make predictions off of."
      ],
      "metadata": {
        "id": "d6vRRh3wVE5v"
      }
    },
    {
      "cell_type": "markdown",
      "source": [
        "**Task5**:\n",
        "\n",
        "What is a likelihood? How are likelihoods related to:\n",
        "\n",
        "- context?\n",
        "- assumptions?\n",
        "- predictions?"
      ],
      "metadata": {
        "id": "v6NnzoV_RWo6"
      }
    },
    {
      "cell_type": "markdown",
      "source": [
        "Likelihoods measure the probability of some data happening given your prior data. They use context and assumptions to make good predictions about what could happen."
      ],
      "metadata": {
        "id": "VK5s3vZpVGLc"
      }
    },
    {
      "cell_type": "markdown",
      "source": [
        "**Task6**:\n",
        "\n",
        "What is a posterior? How are posteriors related to:\n",
        "\n",
        "- context?\n",
        "- assumptions?\n",
        "- predictions?"
      ],
      "metadata": {
        "id": "eYSYtG_2Rowf"
      }
    },
    {
      "cell_type": "markdown",
      "source": [
        "The posterior takes your prior information that was based off of context, compares it to the actual data given, and comes up with a more true value. It is the probability of theta given the evidence, which can be written as p(θ|y). It can be also written as the prior times the likelihood, or $\\frac{p(y|θ)p(θ)}{p(y)}$"
      ],
      "metadata": {
        "id": "T04x1VteVHH1"
      }
    },
    {
      "cell_type": "markdown",
      "source": [
        "**Task7**:\n",
        "\n",
        "Why would anyone want to define a prior and a likelihood in order to make a prediction? In other words, what's the point of using a likelihood and a prior to form a posterior?"
      ],
      "metadata": {
        "id": "CMAm4LqBXYxG"
      }
    },
    {
      "cell_type": "markdown",
      "source": [
        "It is needed to find a prior and a likelihood before a forming a posterior. You need to know of the information in order to compute the posterior, which can be solved for using Bayes' Theorem. You can input the values of the likelyhood and the prior and find that they are proportional to the posterior."
      ],
      "metadata": {
        "id": "rag62h9DVIDN"
      }
    },
    {
      "cell_type": "markdown",
      "source": [
        "## Bayes' Rule Math\n",
        "\n",
        "The following exrcises will be graded for completion, with no accuracy component. That said, correct answers below will replace mistakes in tasks 1-7.\n",
        "\n"
      ],
      "metadata": {
        "id": "BNrO2k34SGoF"
      }
    },
    {
      "cell_type": "markdown",
      "source": [
        "### Mathematical Framing\n",
        "\n",
        "In this series of exercises, we'll calculate a probability using the full version of Bayes' Rule.\n",
        "\n",
        "The version seen in the notes, $p(θ|y) ∝ p(y|θ)p(θ)$, ignores the normalizing constant found in the full equation: $p(θ|y) = \\frac{p(y|θ)p(θ)}{p(y)}$.\n",
        "\n",
        "As stated in the notes, in practical applications we don't need to worry too much about $p(y)$, AKA the marginal likelihood, AKA the prior predictive density, AKA the normalizing constant. And when we do, we'll approximate like we do everything else.\n",
        "\n",
        "But we these exercises are closer to theoretical abstraction, rather than practicality.\n",
        "\n",
        "So why do them?\n",
        "\n",
        "These exercises will hopefully help you gain additional inuition for probability, and how it behaves.\n",
        "\n",
        "As you work through the exercises, consider $p(y)$, the  prior predictive density, and why using it to divide $p(y|θ)p(θ)$ gurantees we get a probability.\n",
        "\n",
        "Additonaly, wonder about:\n",
        "- the likelihood $p(y|θ)$\n",
        "- the prior $p(θ)$,\n",
        "- why multiplying the likelihood and piror (almost) gives us the posterior $p(θ|y)$."
      ],
      "metadata": {
        "id": "w7KMRJa_TmdF"
      }
    },
    {
      "cell_type": "markdown",
      "source": [
        "###Problem Setting\n",
        "\n",
        "Imagine we have a bag of red and white marbles, identical in every other way. Let's assume there are 4 total marbles, we can't see inside the bag, and when we grab a ball from the bag, we replace it and shake the bag to scramble the balls.\n",
        "\n",
        "Additionally:\n",
        "\n",
        "- we draw three balls in this order: red-white-red. Call these the data, $y$. Remember, we replaced the ball and shook the bag between each draw.\n",
        "- we are interested in finding the true proportion of red balls in the bag, called $θ$"
      ],
      "metadata": {
        "id": "ab7E9RIuj2OX"
      }
    },
    {
      "cell_type": "markdown",
      "source": [
        "**Task8**:\n",
        "\n",
        "Write out all the possible color compositions of the marbless in the bag, before we observed our data $y$.\n",
        "\n",
        "Let each of these possible color compositions be a possible $θ$, or true proportion of red marbles."
      ],
      "metadata": {
        "id": "AmHTGWQQHuAD"
      }
    },
    {
      "cell_type": "markdown",
      "source": [
        "Red = R, White = W\n",
        "Possible Compositions: 4R 0W, 3R 1W, 2R 2W, 1R 3W, 0R 4W."
      ],
      "metadata": {
        "id": "EkPylHwCVK72"
      }
    },
    {
      "cell_type": "markdown",
      "source": [
        "**Task9**:\n",
        "\n",
        "Which color compositions are possible after seeing the data $y$?"
      ],
      "metadata": {
        "id": "-TELvcnVH8N2"
      }
    },
    {
      "cell_type": "markdown",
      "source": [
        "2R 2W, 3R 1W."
      ],
      "metadata": {
        "id": "7q6nUOdNMN9Z"
      }
    },
    {
      "cell_type": "markdown",
      "source": [
        "**Task10**:\n",
        "\n",
        "How many ways can you select red-white-red, assuming that there are 2 red marbles and 2 white marbles?"
      ],
      "metadata": {
        "id": "vIjecZm7OVcy"
      }
    },
    {
      "cell_type": "markdown",
      "source": [
        "2^3 = 8"
      ],
      "metadata": {
        "id": "p2vDjMVIXtWR"
      }
    },
    {
      "cell_type": "markdown",
      "source": [
        "**Task11**:\n",
        "\n",
        "How many different ways can you select three balls so that order matters, given that there are 2 red marbles and 2 white marbles?"
      ],
      "metadata": {
        "id": "Bs7tx0pXhUZy"
      }
    },
    {
      "cell_type": "markdown",
      "source": [
        "4^3 = 64"
      ],
      "metadata": {
        "id": "69ScN4NYh6ks"
      }
    },
    {
      "cell_type": "markdown",
      "source": [
        "**Task12**:\n",
        "\n",
        "What's the probablity you select red-white-red, given that there are 2 red marbles and 2 white marbles?\n",
        "\n",
        "Stated differently, Find the likelihood $p(y|θ)$, where $θ=RRWW$"
      ],
      "metadata": {
        "id": "k87Z69qUg9KV"
      }
    },
    {
      "cell_type": "markdown",
      "source": [
        "(2/4)^3\n",
        "\n",
        "p(y|θ) = 8/64 = 0.125"
      ],
      "metadata": {
        "id": "v5bdqu1nri3Y"
      }
    },
    {
      "cell_type": "markdown",
      "source": [
        "**Task13**:\n",
        "\n",
        "Find:\n",
        "\n",
        "- $p(y|WWWW)$\n",
        "- $p(y|RWWW)$\n",
        "- $p(y|RRWW)$\n",
        "- $p(y|RRRW)$\n",
        "- $p(y|RRRR)$"
      ],
      "metadata": {
        "id": "j6e9WP49sZJh"
      }
    },
    {
      "cell_type": "markdown",
      "source": [
        "- p(y|WWWW) = 0\n",
        "- p(y|RWWW) = 3/64\n",
        "- p(y|RRWW) = 8/64\n",
        "- p(y|RRRW) = 9/64\n",
        "- p(y|RRRR) = 0"
      ],
      "metadata": {
        "id": "NbSC4dj_tf4Y"
      }
    },
    {
      "cell_type": "markdown",
      "source": [
        "**Task14**:\n",
        "\n",
        "Find the probablity of getting red-white-red, $p(y)$"
      ],
      "metadata": {
        "id": "qxSVk_Sjv8Gk"
      }
    },
    {
      "cell_type": "markdown",
      "source": [
        "p(y) = 20/64"
      ],
      "metadata": {
        "id": "N3PVjOk5wDZT"
      }
    },
    {
      "cell_type": "markdown",
      "source": [
        "**Task15**:\n",
        "\n",
        "Given that all color compositions are equally likely, and after observing  a draw of red-white-red, find the probability that there are two red marbles and two white marbles in the bag.\n",
        "\n",
        "In other words, find $p(θ|y)$, where $θ=RRWW$."
      ],
      "metadata": {
        "id": "CYoWtEwxyNB-"
      }
    },
    {
      "cell_type": "markdown",
      "source": [
        "p(θ|y) P(θ=RRWW) = 1\n",
        "\n",
        "P(y|RRWW) = 8/64\n",
        "\n",
        "p(y) = 20/64\n",
        "\n",
        "p(θ|y) = p(y|θ)p(θ)/p(y)\n",
        "\n",
        "(8/64)(1)/(20/64) = 0.4"
      ],
      "metadata": {
        "id": "WxX-o3Uuy9eR"
      }
    },
    {
      "cell_type": "markdown",
      "source": [
        "**Task16**:\n",
        "\n",
        "Story time: The marble factory produces bags of four marbles. They want to make red marbles rare, so that people will get excited about them.  Therefore, for each 1 bag containing four red, they made 2 that contain three red, 3 that contain two red, 4 that contain one red, and 5 that contain zero red.\n",
        "\n",
        "With this new prior information, find $p(θ|y)$, where $θ=RRWW$."
      ],
      "metadata": {
        "id": "VgMdbaKW1o39"
      }
    },
    {
      "cell_type": "markdown",
      "source": [
        "p(RRWW) = 3/15\n",
        "\n",
        "Plug that into Bayes theorem\n",
        "\n",
        "p(θ|y) = p(y|θ)p(θ)/p(y)\n",
        "\n",
        "$p(θ|y) = \\frac{(8/64)(3/15)}{(20/64)} = 0.08$\n"
      ],
      "metadata": {
        "id": "UMMrUAIs3Dsi"
      }
    },
    {
      "cell_type": "markdown",
      "source": [
        "**Task17**:\n",
        "\n",
        "Write down similarities and differences between this marble example, and the VIctor Wembanyama FT example."
      ],
      "metadata": {
        "id": "ABn_s24K4K0H"
      }
    },
    {
      "cell_type": "markdown",
      "source": [
        "Similarities: You are changing your guesses based on the amount of data. With Wembanyama, you begin by assuming all FT percentages are equally likely. As you get more data, you can improve your data. It was also important among both trials to not simplify data, as 3/4 is much less precise than 24/32 or even 12/16.\n",
        "\n",
        "Differences: There was a limited number of marble bag compositions. Theta had a finite number of options (unlike the infinite number of free throw percentages), and we could use nice and easy fractions instead of calculus and distributions."
      ],
      "metadata": {
        "id": "CAmT3Bd34fhc"
      }
    }
  ]
}